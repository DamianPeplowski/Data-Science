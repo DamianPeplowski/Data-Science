{
 "cells": [
  {
   "cell_type": "code",
   "execution_count": 1,
   "id": "a539595f",
   "metadata": {},
   "outputs": [],
   "source": [
    "import numpy as np\n",
    "import pandas as pd\n",
    "import matplotlib.pyplot as plt"
   ]
  },
  {
   "cell_type": "code",
   "execution_count": 2,
   "id": "33aad898",
   "metadata": {},
   "outputs": [],
   "source": [
    "df = pd.read_csv('startup_data.csv')"
   ]
  },
  {
   "cell_type": "code",
   "execution_count": 5,
   "id": "f1d47ff6",
   "metadata": {},
   "outputs": [
    {
     "data": {
      "text/html": [
       "<div>\n",
       "<style scoped>\n",
       "    .dataframe tbody tr th:only-of-type {\n",
       "        vertical-align: middle;\n",
       "    }\n",
       "\n",
       "    .dataframe tbody tr th {\n",
       "        vertical-align: top;\n",
       "    }\n",
       "\n",
       "    .dataframe thead th {\n",
       "        text-align: right;\n",
       "    }\n",
       "</style>\n",
       "<table border=\"1\" class=\"dataframe\">\n",
       "  <thead>\n",
       "    <tr style=\"text-align: right;\">\n",
       "      <th></th>\n",
       "      <th>Startup Name</th>\n",
       "      <th>Industry</th>\n",
       "      <th>Funding Rounds</th>\n",
       "      <th>Funding Amount (M USD)</th>\n",
       "      <th>Valuation (M USD)</th>\n",
       "      <th>Revenue (M USD)</th>\n",
       "      <th>Employees</th>\n",
       "      <th>Market Share (%)</th>\n",
       "      <th>Profitable</th>\n",
       "      <th>Year Founded</th>\n",
       "      <th>Region</th>\n",
       "      <th>Exit Status</th>\n",
       "    </tr>\n",
       "  </thead>\n",
       "  <tbody>\n",
       "    <tr>\n",
       "      <th>0</th>\n",
       "      <td>Startup_1</td>\n",
       "      <td>IoT</td>\n",
       "      <td>1</td>\n",
       "      <td>101.09</td>\n",
       "      <td>844.75</td>\n",
       "      <td>67.87</td>\n",
       "      <td>1468</td>\n",
       "      <td>5.20</td>\n",
       "      <td>0</td>\n",
       "      <td>2006</td>\n",
       "      <td>Europe</td>\n",
       "      <td>Private</td>\n",
       "    </tr>\n",
       "    <tr>\n",
       "      <th>1</th>\n",
       "      <td>Startup_2</td>\n",
       "      <td>EdTech</td>\n",
       "      <td>1</td>\n",
       "      <td>247.62</td>\n",
       "      <td>3310.83</td>\n",
       "      <td>75.65</td>\n",
       "      <td>3280</td>\n",
       "      <td>8.10</td>\n",
       "      <td>1</td>\n",
       "      <td>2003</td>\n",
       "      <td>South America</td>\n",
       "      <td>Private</td>\n",
       "    </tr>\n",
       "    <tr>\n",
       "      <th>2</th>\n",
       "      <td>Startup_3</td>\n",
       "      <td>EdTech</td>\n",
       "      <td>1</td>\n",
       "      <td>109.24</td>\n",
       "      <td>1059.37</td>\n",
       "      <td>84.21</td>\n",
       "      <td>4933</td>\n",
       "      <td>2.61</td>\n",
       "      <td>1</td>\n",
       "      <td>1995</td>\n",
       "      <td>South America</td>\n",
       "      <td>Private</td>\n",
       "    </tr>\n",
       "    <tr>\n",
       "      <th>3</th>\n",
       "      <td>Startup_4</td>\n",
       "      <td>Gaming</td>\n",
       "      <td>5</td>\n",
       "      <td>10.75</td>\n",
       "      <td>101.90</td>\n",
       "      <td>47.08</td>\n",
       "      <td>1059</td>\n",
       "      <td>2.53</td>\n",
       "      <td>0</td>\n",
       "      <td>2003</td>\n",
       "      <td>South America</td>\n",
       "      <td>Private</td>\n",
       "    </tr>\n",
       "    <tr>\n",
       "      <th>4</th>\n",
       "      <td>Startup_5</td>\n",
       "      <td>IoT</td>\n",
       "      <td>4</td>\n",
       "      <td>249.28</td>\n",
       "      <td>850.11</td>\n",
       "      <td>50.25</td>\n",
       "      <td>1905</td>\n",
       "      <td>4.09</td>\n",
       "      <td>0</td>\n",
       "      <td>1997</td>\n",
       "      <td>Europe</td>\n",
       "      <td>Acquired</td>\n",
       "    </tr>\n",
       "  </tbody>\n",
       "</table>\n",
       "</div>"
      ],
      "text/plain": [
       "  Startup Name Industry  Funding Rounds  Funding Amount (M USD)  \\\n",
       "0    Startup_1      IoT               1                  101.09   \n",
       "1    Startup_2   EdTech               1                  247.62   \n",
       "2    Startup_3   EdTech               1                  109.24   \n",
       "3    Startup_4   Gaming               5                   10.75   \n",
       "4    Startup_5      IoT               4                  249.28   \n",
       "\n",
       "   Valuation (M USD)  Revenue (M USD)  Employees  Market Share (%)  \\\n",
       "0             844.75            67.87       1468              5.20   \n",
       "1            3310.83            75.65       3280              8.10   \n",
       "2            1059.37            84.21       4933              2.61   \n",
       "3             101.90            47.08       1059              2.53   \n",
       "4             850.11            50.25       1905              4.09   \n",
       "\n",
       "   Profitable  Year Founded         Region Exit Status  \n",
       "0           0          2006         Europe     Private  \n",
       "1           1          2003  South America     Private  \n",
       "2           1          1995  South America     Private  \n",
       "3           0          2003  South America     Private  \n",
       "4           0          1997         Europe    Acquired  "
      ]
     },
     "execution_count": 5,
     "metadata": {},
     "output_type": "execute_result"
    }
   ],
   "source": [
    "df.head()"
   ]
  },
  {
   "cell_type": "code",
   "execution_count": 6,
   "id": "4b1dc486",
   "metadata": {},
   "outputs": [
    {
     "name": "stdout",
     "output_type": "stream",
     "text": [
      "<class 'pandas.core.frame.DataFrame'>\n",
      "RangeIndex: 500 entries, 0 to 499\n",
      "Data columns (total 12 columns):\n",
      " #   Column                  Non-Null Count  Dtype  \n",
      "---  ------                  --------------  -----  \n",
      " 0   Startup Name            500 non-null    object \n",
      " 1   Industry                500 non-null    object \n",
      " 2   Funding Rounds          500 non-null    int64  \n",
      " 3   Funding Amount (M USD)  500 non-null    float64\n",
      " 4   Valuation (M USD)       500 non-null    float64\n",
      " 5   Revenue (M USD)         500 non-null    float64\n",
      " 6   Employees               500 non-null    int64  \n",
      " 7   Market Share (%)        500 non-null    float64\n",
      " 8   Profitable              500 non-null    int64  \n",
      " 9   Year Founded            500 non-null    int64  \n",
      " 10  Region                  500 non-null    object \n",
      " 11  Exit Status             500 non-null    object \n",
      "dtypes: float64(4), int64(4), object(4)\n",
      "memory usage: 47.0+ KB\n"
     ]
    }
   ],
   "source": [
    "df.info()"
   ]
  },
  {
   "cell_type": "code",
   "execution_count": null,
   "id": "12127e56",
   "metadata": {},
   "outputs": [
    {
     "data": {
      "text/html": [
       "<div>\n",
       "<style scoped>\n",
       "    .dataframe tbody tr th:only-of-type {\n",
       "        vertical-align: middle;\n",
       "    }\n",
       "\n",
       "    .dataframe tbody tr th {\n",
       "        vertical-align: top;\n",
       "    }\n",
       "\n",
       "    .dataframe thead th {\n",
       "        text-align: right;\n",
       "    }\n",
       "</style>\n",
       "<table border=\"1\" class=\"dataframe\">\n",
       "  <thead>\n",
       "    <tr style=\"text-align: right;\">\n",
       "      <th></th>\n",
       "      <th>Funding Rounds</th>\n",
       "      <th>Funding Amount (M USD)</th>\n",
       "      <th>Valuation (M USD)</th>\n",
       "      <th>Revenue (M USD)</th>\n",
       "      <th>Employees</th>\n",
       "      <th>Market Share (%)</th>\n",
       "      <th>Profitable</th>\n",
       "      <th>Year Founded</th>\n",
       "    </tr>\n",
       "  </thead>\n",
       "  <tbody>\n",
       "    <tr>\n",
       "      <th>count</th>\n",
       "      <td>500.000000</td>\n",
       "      <td>500.000000</td>\n",
       "      <td>500.000000</td>\n",
       "      <td>500.000000</td>\n",
       "      <td>500.000000</td>\n",
       "      <td>500.000000</td>\n",
       "      <td>500.000000</td>\n",
       "      <td>500.000000</td>\n",
       "    </tr>\n",
       "    <tr>\n",
       "      <th>mean</th>\n",
       "      <td>2.958000</td>\n",
       "      <td>152.656760</td>\n",
       "      <td>1371.809180</td>\n",
       "      <td>49.321740</td>\n",
       "      <td>2532.092000</td>\n",
       "      <td>5.092940</td>\n",
       "      <td>0.432000</td>\n",
       "      <td>2006.044000</td>\n",
       "    </tr>\n",
       "    <tr>\n",
       "      <th>std</th>\n",
       "      <td>1.440968</td>\n",
       "      <td>86.683711</td>\n",
       "      <td>978.226579</td>\n",
       "      <td>29.267605</td>\n",
       "      <td>1385.434921</td>\n",
       "      <td>2.807646</td>\n",
       "      <td>0.495851</td>\n",
       "      <td>9.347128</td>\n",
       "    </tr>\n",
       "    <tr>\n",
       "      <th>min</th>\n",
       "      <td>1.000000</td>\n",
       "      <td>0.570000</td>\n",
       "      <td>2.430000</td>\n",
       "      <td>0.120000</td>\n",
       "      <td>12.000000</td>\n",
       "      <td>0.100000</td>\n",
       "      <td>0.000000</td>\n",
       "      <td>1990.000000</td>\n",
       "    </tr>\n",
       "    <tr>\n",
       "      <th>25%</th>\n",
       "      <td>2.000000</td>\n",
       "      <td>79.212500</td>\n",
       "      <td>557.027500</td>\n",
       "      <td>22.802500</td>\n",
       "      <td>1382.750000</td>\n",
       "      <td>2.760000</td>\n",
       "      <td>0.000000</td>\n",
       "      <td>1998.000000</td>\n",
       "    </tr>\n",
       "    <tr>\n",
       "      <th>50%</th>\n",
       "      <td>3.000000</td>\n",
       "      <td>156.005000</td>\n",
       "      <td>1222.580000</td>\n",
       "      <td>48.800000</td>\n",
       "      <td>2496.500000</td>\n",
       "      <td>5.135000</td>\n",
       "      <td>0.000000</td>\n",
       "      <td>2006.000000</td>\n",
       "    </tr>\n",
       "    <tr>\n",
       "      <th>75%</th>\n",
       "      <td>4.000000</td>\n",
       "      <td>226.450000</td>\n",
       "      <td>2052.085000</td>\n",
       "      <td>74.965000</td>\n",
       "      <td>3708.750000</td>\n",
       "      <td>7.552500</td>\n",
       "      <td>1.000000</td>\n",
       "      <td>2014.000000</td>\n",
       "    </tr>\n",
       "    <tr>\n",
       "      <th>max</th>\n",
       "      <td>5.000000</td>\n",
       "      <td>299.810000</td>\n",
       "      <td>4357.490000</td>\n",
       "      <td>99.710000</td>\n",
       "      <td>4984.000000</td>\n",
       "      <td>10.000000</td>\n",
       "      <td>1.000000</td>\n",
       "      <td>2022.000000</td>\n",
       "    </tr>\n",
       "  </tbody>\n",
       "</table>\n",
       "</div>"
      ],
      "text/plain": [
       "       Funding Rounds  Funding Amount (M USD)  Valuation (M USD)  \\\n",
       "count      500.000000              500.000000         500.000000   \n",
       "mean         2.958000              152.656760        1371.809180   \n",
       "std          1.440968               86.683711         978.226579   \n",
       "min          1.000000                0.570000           2.430000   \n",
       "25%          2.000000               79.212500         557.027500   \n",
       "50%          3.000000              156.005000        1222.580000   \n",
       "75%          4.000000              226.450000        2052.085000   \n",
       "max          5.000000              299.810000        4357.490000   \n",
       "\n",
       "       Revenue (M USD)    Employees  Market Share (%)  Profitable  \\\n",
       "count       500.000000   500.000000        500.000000  500.000000   \n",
       "mean         49.321740  2532.092000          5.092940    0.432000   \n",
       "std          29.267605  1385.434921          2.807646    0.495851   \n",
       "min           0.120000    12.000000          0.100000    0.000000   \n",
       "25%          22.802500  1382.750000          2.760000    0.000000   \n",
       "50%          48.800000  2496.500000          5.135000    0.000000   \n",
       "75%          74.965000  3708.750000          7.552500    1.000000   \n",
       "max          99.710000  4984.000000         10.000000    1.000000   \n",
       "\n",
       "       Year Founded  \n",
       "count    500.000000  \n",
       "mean    2006.044000  \n",
       "std        9.347128  \n",
       "min     1990.000000  \n",
       "25%     1998.000000  \n",
       "50%     2006.000000  \n",
       "75%     2014.000000  \n",
       "max     2022.000000  "
      ]
     },
     "execution_count": 7,
     "metadata": {},
     "output_type": "execute_result"
    }
   ],
   "source": [
    "df.describe()"
   ]
  },
  {
   "cell_type": "code",
   "execution_count": null,
   "id": "7c7a1a30",
   "metadata": {},
   "outputs": [
    {
     "data": {
      "text/plain": [
       "Startup Name              0\n",
       "Industry                  0\n",
       "Funding Rounds            0\n",
       "Funding Amount (M USD)    0\n",
       "Valuation (M USD)         0\n",
       "Revenue (M USD)           0\n",
       "Employees                 0\n",
       "Market Share (%)          0\n",
       "Profitable                0\n",
       "Year Founded              0\n",
       "Region                    0\n",
       "Exit Status               0\n",
       "dtype: int64"
      ]
     },
     "execution_count": 8,
     "metadata": {},
     "output_type": "execute_result"
    }
   ],
   "source": [
    "df.isnull().sum()"
   ]
  },
  {
   "cell_type": "code",
   "execution_count": 9,
   "id": "f0346645",
   "metadata": {},
   "outputs": [
    {
     "data": {
      "text/plain": [
       "Startup Name              500\n",
       "Industry                    8\n",
       "Funding Rounds              5\n",
       "Funding Amount (M USD)    494\n",
       "Valuation (M USD)         500\n",
       "Revenue (M USD)           490\n",
       "Employees                 478\n",
       "Market Share (%)          384\n",
       "Profitable                  2\n",
       "Year Founded               33\n",
       "Region                      5\n",
       "Exit Status                 3\n",
       "dtype: int64"
      ]
     },
     "execution_count": 9,
     "metadata": {},
     "output_type": "execute_result"
    }
   ],
   "source": [
    "df.nunique()"
   ]
  },
  {
   "cell_type": "code",
   "execution_count": 10,
   "id": "5efc020a",
   "metadata": {},
   "outputs": [
    {
     "data": {
      "text/plain": [
       "(500, 12)"
      ]
     },
     "execution_count": 10,
     "metadata": {},
     "output_type": "execute_result"
    }
   ],
   "source": [
    "df.shape"
   ]
  },
  {
   "cell_type": "code",
   "execution_count": null,
   "id": "8beb6b36",
   "metadata": {},
   "outputs": [
    {
     "data": {
      "text/plain": [
       "Index(['Startup Name', 'Industry', 'Funding Rounds', 'Funding Amount (M USD)',\n",
       "       'Valuation (M USD)', 'Revenue (M USD)', 'Employees', 'Market Share (%)',\n",
       "       'Profitable', 'Year Founded', 'Region', 'Exit Status'],\n",
       "      dtype='object')"
      ]
     },
     "execution_count": 11,
     "metadata": {},
     "output_type": "execute_result"
    }
   ],
   "source": [
    "df.columns"
   ]
  },
  {
   "cell_type": "code",
   "execution_count": null,
   "id": "00670c17",
   "metadata": {},
   "outputs": [
    {
     "data": {
      "text/plain": [
       "Startup Name               object\n",
       "Industry                   object\n",
       "Funding Rounds              int64\n",
       "Funding Amount (M USD)    float64\n",
       "Valuation (M USD)         float64\n",
       "Revenue (M USD)           float64\n",
       "Employees                   int64\n",
       "Market Share (%)          float64\n",
       "Profitable                  int64\n",
       "Year Founded                int64\n",
       "Region                     object\n",
       "Exit Status                object\n",
       "dtype: object"
      ]
     },
     "execution_count": 12,
     "metadata": {},
     "output_type": "execute_result"
    }
   ],
   "source": [
    "df.dtypes"
   ]
  },
  {
   "cell_type": "code",
   "execution_count": 13,
   "id": "2fda5f5e",
   "metadata": {},
   "outputs": [
    {
     "data": {
      "text/plain": [
       "8"
      ]
     },
     "execution_count": 13,
     "metadata": {},
     "output_type": "execute_result"
    }
   ],
   "source": [
    "df['Industry'].nunique()"
   ]
  },
  {
   "cell_type": "code",
   "execution_count": 14,
   "id": "fa28ade2",
   "metadata": {},
   "outputs": [
    {
     "data": {
      "text/plain": [
       "Industry\n",
       "EdTech           74\n",
       "FinTech          71\n",
       "E-Commerce       70\n",
       "Gaming           62\n",
       "AI               62\n",
       "IoT              61\n",
       "Cybersecurity    51\n",
       "HealthTech       49\n",
       "Name: count, dtype: int64"
      ]
     },
     "execution_count": 14,
     "metadata": {},
     "output_type": "execute_result"
    }
   ],
   "source": [
    "df['Industry'].value_counts()"
   ]
  },
  {
   "cell_type": "code",
   "execution_count": 15,
   "id": "fd947446",
   "metadata": {},
   "outputs": [
    {
     "data": {
      "text/plain": [
       "np.float64(152.65676000000002)"
      ]
     },
     "execution_count": 15,
     "metadata": {},
     "output_type": "execute_result"
    }
   ],
   "source": [
    "df['Funding Amount (M USD)'].mean()"
   ]
  },
  {
   "cell_type": "code",
   "execution_count": 16,
   "id": "23d636e5",
   "metadata": {},
   "outputs": [
    {
     "data": {
      "text/html": [
       "<div>\n",
       "<style scoped>\n",
       "    .dataframe tbody tr th:only-of-type {\n",
       "        vertical-align: middle;\n",
       "    }\n",
       "\n",
       "    .dataframe tbody tr th {\n",
       "        vertical-align: top;\n",
       "    }\n",
       "\n",
       "    .dataframe thead th {\n",
       "        text-align: right;\n",
       "    }\n",
       "</style>\n",
       "<table border=\"1\" class=\"dataframe\">\n",
       "  <thead>\n",
       "    <tr style=\"text-align: right;\">\n",
       "      <th></th>\n",
       "      <th>Startup Name</th>\n",
       "      <th>Industry</th>\n",
       "      <th>Funding Rounds</th>\n",
       "      <th>Funding Amount (M USD)</th>\n",
       "      <th>Valuation (M USD)</th>\n",
       "      <th>Revenue (M USD)</th>\n",
       "      <th>Employees</th>\n",
       "      <th>Market Share (%)</th>\n",
       "      <th>Profitable</th>\n",
       "      <th>Year Founded</th>\n",
       "      <th>Region</th>\n",
       "      <th>Exit Status</th>\n",
       "    </tr>\n",
       "  </thead>\n",
       "  <tbody>\n",
       "    <tr>\n",
       "      <th>108</th>\n",
       "      <td>Startup_109</td>\n",
       "      <td>E-Commerce</td>\n",
       "      <td>2</td>\n",
       "      <td>299.81</td>\n",
       "      <td>4125.56</td>\n",
       "      <td>77.21</td>\n",
       "      <td>2813</td>\n",
       "      <td>7.56</td>\n",
       "      <td>1</td>\n",
       "      <td>1998</td>\n",
       "      <td>South America</td>\n",
       "      <td>Acquired</td>\n",
       "    </tr>\n",
       "    <tr>\n",
       "      <th>201</th>\n",
       "      <td>Startup_202</td>\n",
       "      <td>Gaming</td>\n",
       "      <td>4</td>\n",
       "      <td>298.90</td>\n",
       "      <td>3192.86</td>\n",
       "      <td>16.97</td>\n",
       "      <td>2347</td>\n",
       "      <td>9.82</td>\n",
       "      <td>1</td>\n",
       "      <td>2009</td>\n",
       "      <td>Australia</td>\n",
       "      <td>Private</td>\n",
       "    </tr>\n",
       "    <tr>\n",
       "      <th>451</th>\n",
       "      <td>Startup_452</td>\n",
       "      <td>E-Commerce</td>\n",
       "      <td>1</td>\n",
       "      <td>297.64</td>\n",
       "      <td>3565.22</td>\n",
       "      <td>99.13</td>\n",
       "      <td>4963</td>\n",
       "      <td>2.11</td>\n",
       "      <td>1</td>\n",
       "      <td>2019</td>\n",
       "      <td>South America</td>\n",
       "      <td>IPO</td>\n",
       "    </tr>\n",
       "    <tr>\n",
       "      <th>228</th>\n",
       "      <td>Startup_229</td>\n",
       "      <td>EdTech</td>\n",
       "      <td>3</td>\n",
       "      <td>297.45</td>\n",
       "      <td>1320.07</td>\n",
       "      <td>21.05</td>\n",
       "      <td>1233</td>\n",
       "      <td>5.54</td>\n",
       "      <td>0</td>\n",
       "      <td>2005</td>\n",
       "      <td>North America</td>\n",
       "      <td>Private</td>\n",
       "    </tr>\n",
       "    <tr>\n",
       "      <th>141</th>\n",
       "      <td>Startup_142</td>\n",
       "      <td>Cybersecurity</td>\n",
       "      <td>1</td>\n",
       "      <td>297.11</td>\n",
       "      <td>2768.47</td>\n",
       "      <td>61.33</td>\n",
       "      <td>2372</td>\n",
       "      <td>6.74</td>\n",
       "      <td>0</td>\n",
       "      <td>2002</td>\n",
       "      <td>North America</td>\n",
       "      <td>Private</td>\n",
       "    </tr>\n",
       "    <tr>\n",
       "      <th>288</th>\n",
       "      <td>Startup_289</td>\n",
       "      <td>Gaming</td>\n",
       "      <td>5</td>\n",
       "      <td>297.05</td>\n",
       "      <td>2595.86</td>\n",
       "      <td>38.01</td>\n",
       "      <td>401</td>\n",
       "      <td>6.57</td>\n",
       "      <td>1</td>\n",
       "      <td>2013</td>\n",
       "      <td>Australia</td>\n",
       "      <td>Acquired</td>\n",
       "    </tr>\n",
       "    <tr>\n",
       "      <th>179</th>\n",
       "      <td>Startup_180</td>\n",
       "      <td>FinTech</td>\n",
       "      <td>1</td>\n",
       "      <td>296.76</td>\n",
       "      <td>3297.03</td>\n",
       "      <td>37.26</td>\n",
       "      <td>4902</td>\n",
       "      <td>8.52</td>\n",
       "      <td>1</td>\n",
       "      <td>1991</td>\n",
       "      <td>Asia</td>\n",
       "      <td>Acquired</td>\n",
       "    </tr>\n",
       "    <tr>\n",
       "      <th>14</th>\n",
       "      <td>Startup_15</td>\n",
       "      <td>FinTech</td>\n",
       "      <td>1</td>\n",
       "      <td>295.62</td>\n",
       "      <td>2960.94</td>\n",
       "      <td>3.00</td>\n",
       "      <td>3639</td>\n",
       "      <td>6.39</td>\n",
       "      <td>1</td>\n",
       "      <td>2015</td>\n",
       "      <td>Asia</td>\n",
       "      <td>Acquired</td>\n",
       "    </tr>\n",
       "    <tr>\n",
       "      <th>355</th>\n",
       "      <td>Startup_356</td>\n",
       "      <td>EdTech</td>\n",
       "      <td>2</td>\n",
       "      <td>295.31</td>\n",
       "      <td>1414.79</td>\n",
       "      <td>16.57</td>\n",
       "      <td>2227</td>\n",
       "      <td>8.08</td>\n",
       "      <td>0</td>\n",
       "      <td>2014</td>\n",
       "      <td>Australia</td>\n",
       "      <td>Private</td>\n",
       "    </tr>\n",
       "    <tr>\n",
       "      <th>175</th>\n",
       "      <td>Startup_176</td>\n",
       "      <td>EdTech</td>\n",
       "      <td>5</td>\n",
       "      <td>294.71</td>\n",
       "      <td>1090.86</td>\n",
       "      <td>34.43</td>\n",
       "      <td>2246</td>\n",
       "      <td>5.07</td>\n",
       "      <td>1</td>\n",
       "      <td>2018</td>\n",
       "      <td>South America</td>\n",
       "      <td>Private</td>\n",
       "    </tr>\n",
       "  </tbody>\n",
       "</table>\n",
       "</div>"
      ],
      "text/plain": [
       "    Startup Name       Industry  Funding Rounds  Funding Amount (M USD)  \\\n",
       "108  Startup_109     E-Commerce               2                  299.81   \n",
       "201  Startup_202         Gaming               4                  298.90   \n",
       "451  Startup_452     E-Commerce               1                  297.64   \n",
       "228  Startup_229         EdTech               3                  297.45   \n",
       "141  Startup_142  Cybersecurity               1                  297.11   \n",
       "288  Startup_289         Gaming               5                  297.05   \n",
       "179  Startup_180        FinTech               1                  296.76   \n",
       "14    Startup_15        FinTech               1                  295.62   \n",
       "355  Startup_356         EdTech               2                  295.31   \n",
       "175  Startup_176         EdTech               5                  294.71   \n",
       "\n",
       "     Valuation (M USD)  Revenue (M USD)  Employees  Market Share (%)  \\\n",
       "108            4125.56            77.21       2813              7.56   \n",
       "201            3192.86            16.97       2347              9.82   \n",
       "451            3565.22            99.13       4963              2.11   \n",
       "228            1320.07            21.05       1233              5.54   \n",
       "141            2768.47            61.33       2372              6.74   \n",
       "288            2595.86            38.01        401              6.57   \n",
       "179            3297.03            37.26       4902              8.52   \n",
       "14             2960.94             3.00       3639              6.39   \n",
       "355            1414.79            16.57       2227              8.08   \n",
       "175            1090.86            34.43       2246              5.07   \n",
       "\n",
       "     Profitable  Year Founded         Region Exit Status  \n",
       "108           1          1998  South America    Acquired  \n",
       "201           1          2009      Australia     Private  \n",
       "451           1          2019  South America         IPO  \n",
       "228           0          2005  North America     Private  \n",
       "141           0          2002  North America     Private  \n",
       "288           1          2013      Australia    Acquired  \n",
       "179           1          1991           Asia    Acquired  \n",
       "14            1          2015           Asia    Acquired  \n",
       "355           0          2014      Australia     Private  \n",
       "175           1          2018  South America     Private  "
      ]
     },
     "execution_count": 16,
     "metadata": {},
     "output_type": "execute_result"
    }
   ],
   "source": [
    "df.sort_values('Funding Amount (M USD)', ascending=False).head(10)"
   ]
  },
  {
   "cell_type": "code",
   "execution_count": 17,
   "id": "52f9bb77",
   "metadata": {},
   "outputs": [
    {
     "data": {
      "text/plain": [
       "Industry\n",
       "Gaming           173.149355\n",
       "E-Commerce       164.633000\n",
       "FinTech          164.034225\n",
       "Cybersecurity    156.319804\n",
       "EdTech           151.515270\n",
       "AI               138.339516\n",
       "HealthTech       134.926939\n",
       "IoT              131.958525\n",
       "Name: Funding Amount (M USD), dtype: float64"
      ]
     },
     "execution_count": 17,
     "metadata": {},
     "output_type": "execute_result"
    }
   ],
   "source": [
    "df.groupby('Industry')['Funding Amount (M USD)'].mean().sort_values(ascending=False).head(10)"
   ]
  },
  {
   "cell_type": "code",
   "execution_count": 18,
   "id": "a4a35ca5",
   "metadata": {},
   "outputs": [
    {
     "data": {
      "text/plain": [
       "Region\n",
       "Asia             289\n",
       "Australia        332\n",
       "Europe           326\n",
       "North America    279\n",
       "South America    253\n",
       "Name: Funding Rounds, dtype: int64"
      ]
     },
     "execution_count": 18,
     "metadata": {},
     "output_type": "execute_result"
    }
   ],
   "source": [
    "df.groupby('Region')['Funding Rounds'].sum()"
   ]
  },
  {
   "cell_type": "code",
   "execution_count": 19,
   "id": "1c140088",
   "metadata": {},
   "outputs": [
    {
     "data": {
      "text/plain": [
       "Profitable\n",
       "0    1292.975704\n",
       "1    1475.460602\n",
       "Name: Valuation (M USD), dtype: float64"
      ]
     },
     "execution_count": 19,
     "metadata": {},
     "output_type": "execute_result"
    }
   ],
   "source": [
    "df.groupby('Profitable')['Valuation (M USD)'].mean()"
   ]
  },
  {
   "cell_type": "code",
   "execution_count": 33,
   "id": "d9f34f86",
   "metadata": {},
   "outputs": [
    {
     "data": {
      "text/plain": [
       "Profitable\n",
       "0    48.501725\n",
       "1    50.399907\n",
       "Name: Revenue (M USD), dtype: float64"
      ]
     },
     "execution_count": 33,
     "metadata": {},
     "output_type": "execute_result"
    }
   ],
   "source": [
    "df.groupby('Industry')['Funding Amount (M USD)'].mean().sort_values(ascending=False)\n",
    "df.groupby('Profitable')['Revenue (M USD)'].mean()\n",
    " "
   ]
  },
  {
   "cell_type": "code",
   "execution_count": 34,
   "id": "5e4c301d",
   "metadata": {},
   "outputs": [],
   "source": [
    "df[\"ROI\"] = df[\"Valuation (M USD)\"] / df[\"Funding Amount (M USD)\"]\n",
    "df[\"Revenue per Employee\"] = df[\"Revenue (M USD)\"] / df[\"Employees\"]\n"
   ]
  },
  {
   "cell_type": "code",
   "execution_count": 37,
   "id": "14723d65",
   "metadata": {},
   "outputs": [
    {
     "data": {
      "image/png": "[encoded data removed]",
      "text/plain": [
       "<Figure size 640x480 with 1 Axes>"
      ]
     },
     "metadata": {},
     "output_type": "display_data"
    }
   ],
   "source": [
    "plt.hist(df['Funding Amount (M USD)'], bins=20, color='skyblue')\n",
    "plt.title(\"Rozkład dofinansowania\")\n",
    "plt.xlabel(\"Kwota (M USD)\")\n",
    "plt.ylabel(\"Liczba startupów\")\n",
    "plt.show()"
   ]
  },
  {
   "cell_type": "code",
   "execution_count": 36,
   "id": "3b36bfe8",
   "metadata": {},
   "outputs": [
    {
     "data": {
      "image/png": "[encoded data removed]",
      "text/plain": [
       "<Figure size 640x480 with 1 Axes>"
      ]
     },
     "metadata": {},
     "output_type": "display_data"
    }
   ],
   "source": [
    "\n",
    "dftop_5 = df.sort_values('Market Share (%)', ascending=False).head(5)\n",
    "plt.pie(dftop_5['Market Share (%)'], labels=dftop_5['Startup Name'])\n",
    "plt.title(\"Top 5 Startupów według udziału w rynku\")\n",
    "plt.show()"
   ]
  }
 ],
 "metadata": {
  "kernelspec": {
   "display_name": "Python 3",
   "language": "python",
   "name": "python3"
  },
  "language_info": {
   "codemirror_mode": {
    "name": "ipython",
    "version": 3
   },
   "file_extension": ".py",
   "mimetype": "text/x-python",
   "name": "python",
   "nbconvert_exporter": "python",
   "pygments_lexer": "ipython3",
   "version": "3.12.10"
  }
 },
 "nbformat": 4,
 "nbformat_minor": 5
}
